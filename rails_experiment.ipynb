{
 "cells": [
  {
   "cell_type": "code",
   "execution_count": 29,
   "metadata": {},
   "outputs": [],
   "source": [
    "import torch\n",
    "import torch.nn as nn\n",
    "from collections import deque\n",
    "import numpy as np\n",
    "from torchvision import datasets, transforms\n",
    "from torch.utils.data import DataLoader\n",
    "import matplotlib.pyplot as plt\n",
    "import pandas as pd\n",
    "\n",
    "import matplotlib\n",
    "import matplotlib.pyplot as plt\n",
    "import seaborn as sns\n",
    "\n",
    "from importlib import reload\n",
    "\n",
    "# local imports\n",
    "from rails import rails as r\n",
    "from rails import aise as a\n",
    "import model as _model\n",
    "import utils as _tools"
   ]
  },
  {
   "cell_type": "code",
   "execution_count": 2,
   "metadata": {},
   "outputs": [],
   "source": [
    "DEVICE = torch.device(\"cuda\" if torch.cuda.is_available() else \"cpu\")"
   ]
  },
  {
   "cell_type": "code",
   "execution_count": 3,
   "metadata": {},
   "outputs": [],
   "source": [
    "\"\"\"\n",
    "initialize the trainned model\n",
    "\"\"\"\n",
    "\n",
    "resnet = _model.TransferModel(use_cpu=False)\n",
    "\n",
    "# model = VGG()\n",
    "# model = resnet.model"
   ]
  },
  {
   "cell_type": "code",
   "execution_count": 4,
   "metadata": {},
   "outputs": [
    {
     "name": "stdout",
     "output_type": "stream",
     "text": [
      "done.\n"
     ]
    }
   ],
   "source": [
    "\"\"\"\n",
    "load the saved state\n",
    "\"\"\"\n",
    "resnet.model.load_state_dict(torch.load(\n",
    "    \"models/Cardiomegaly_resnet18.pth\", map_location=DEVICE\n",
    "))\n",
    "\n",
    "resnet.model.eval()\n",
    "\n",
    "print(\"done.\")"
   ]
  },
  {
   "cell_type": "code",
   "execution_count": 5,
   "metadata": {},
   "outputs": [
    {
     "name": "stdout",
     "output_type": "stream",
     "text": [
      "done\n"
     ]
    },
    {
     "name": "stderr",
     "output_type": "stream",
     "text": [
      "<ipython-input-5-43305d3bf59b>:27: DeprecationWarning: an integer is required (got type numpy.float32).  Implicit conversion to integers using __int__ is deprecated, and may be removed in a future version of Python.\n",
      "  y_train = torch.LongTensor(y)\n"
     ]
    }
   ],
   "source": [
    "# the training data from the data loader\n",
    "n_rows = 100 # how many rows to sample\n",
    "row_count = 0\n",
    "x = []\n",
    "y = []\n",
    "for image, labels in resnet.dataloader_train.dataset:\n",
    "    row_count += 1\n",
    "    x.append(image)\n",
    "    y.append(labels[0]) # the label for cadiomegaly\n",
    "    \n",
    "    if row_count == n_rows:\n",
    "        break\n",
    "    \n",
    "    \n",
    "x_train = torch.FloatTensor(x)\n",
    "y_train = torch.LongTensor(y)\n",
    "\n",
    "print(\"done\")"
   ]
  },
  {
   "cell_type": "code",
   "execution_count": 6,
   "metadata": {},
   "outputs": [
    {
     "data": {
      "text/plain": [
       "torch.Size([100, 1, 224, 224])"
      ]
     },
     "execution_count": 6,
     "metadata": {},
     "output_type": "execute_result"
    }
   ],
   "source": [
    "x_train.shape"
   ]
  },
  {
   "cell_type": "code",
   "execution_count": 9,
   "metadata": {},
   "outputs": [
    {
     "data": {
      "text/plain": [
       "<rails.rails.RAILS at 0x2ad729cc31c0>"
      ]
     },
     "execution_count": 9,
     "metadata": {},
     "output_type": "execute_result"
    }
   ],
   "source": [
    "rails"
   ]
  },
  {
   "cell_type": "code",
   "execution_count": 44,
   "metadata": {},
   "outputs": [
    {
     "name": "stderr",
     "output_type": "stream",
     "text": [
      "Cannot build query objects!\n"
     ]
    }
   ],
   "source": [
    "reload(r)\n",
    "reload(a)\n",
    "\n",
    "CONFIG = {\n",
    "    \"start_layer\": 1,\n",
    "    \"n_class\": 2,\n",
    "    \"aise_params\": [\n",
    "        {\"hidden_layer\": 2, \n",
    "         \"sampling_temperature\": 1, \n",
    "         \"max_generation\": 10, \n",
    "         \"n_neighbors\" : 3,\n",
    "         \"n_population\" : 2 * 3,\n",
    "         \"mut_range\": (.005, .015)},\n",
    "    ]\n",
    "}\n",
    "\n",
    "rails = r.RAILS(resnet.model, \n",
    "              CONFIG, \n",
    "              x_train,\n",
    "              y_train)"
   ]
  },
  {
   "cell_type": "code",
   "execution_count": null,
   "metadata": {},
   "outputs": [],
   "source": []
  }
 ],
 "metadata": {
  "kernelspec": {
   "display_name": "Python 3",
   "language": "python",
   "name": "python3"
  },
  "language_info": {
   "codemirror_mode": {
    "name": "ipython",
    "version": 3
   },
   "file_extension": ".py",
   "mimetype": "text/x-python",
   "name": "python",
   "nbconvert_exporter": "python",
   "pygments_lexer": "ipython3",
   "version": "3.8.3"
  }
 },
 "nbformat": 4,
 "nbformat_minor": 4
}

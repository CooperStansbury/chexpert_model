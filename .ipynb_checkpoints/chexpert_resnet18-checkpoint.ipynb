{
 "cells": [
  {
   "cell_type": "code",
   "execution_count": 1,
   "metadata": {},
   "outputs": [],
   "source": [
    "import pandas as pd\n",
    "import numpy as np\n",
    "import os\n",
    "from importlib import reload\n",
    "\n",
    "import matplotlib.pyplot as plt\n",
    "import matplotlib\n",
    "import seaborn as sns\n",
    "\n",
    "from sklearn.model_selection import train_test_split\n",
    "import skimage\n",
    "from skimage import io\n",
    "from skimage.transform import resize\n",
    "\n",
    "import torch\n",
    "import torch.nn as nn\n",
    "import torch.optim as optim\n",
    "from torch.optim import lr_scheduler\n",
    "import numpy as np\n",
    "import torchvision\n",
    "from torchvision import datasets, models, transforms\n",
    "import time\n",
    "import os\n",
    "import copy\n",
    "\n",
    "# local imports\n",
    "import model as _model\n",
    "import utils as _tools"
   ]
  },
  {
   "cell_type": "code",
   "execution_count": 2,
   "metadata": {},
   "outputs": [
    {
     "name": "stdout",
     "output_type": "stream",
     "text": [
      "sampling 20000 records\n",
      "train.shape: (15000, 19)\n",
      "dev.shape: (5000, 19)\n",
      "valid.shape: (234, 19)\n",
      "saved: ./train.csv\n",
      "saved: ./dev.csv\n",
      "saved: ./valid.csv\n",
      "\n",
      "Trainning label distribution\n",
      " NaN    0.790267\n",
      " 1.0    0.123733\n",
      " 0.0    0.049333\n",
      "-1.0    0.036667\n",
      "Name: Cardiomegaly, dtype: float64\n",
      "\n",
      "Development label distribution\n",
      " NaN    0.7884\n",
      " 1.0    0.1248\n",
      " 0.0    0.0492\n",
      "-1.0    0.0376\n",
      "Name: Cardiomegaly, dtype: float64\n"
     ]
    }
   ],
   "source": [
    "\"\"\"\n",
    "control the generation of trainning and dev datasets\n",
    "\"\"\"\n",
    "\n",
    "train, dev, _ = _tools.make_trainning_data(sample=20000, \n",
    "                                           return_frames=True, \n",
    "                                           state=1729)\n",
    "\n",
    "print()\n",
    "print(\"Trainning label distribution\")\n",
    "print(train['Cardiomegaly'].value_counts(normalize=True, dropna=False))\n",
    "\n",
    "print()\n",
    "print(\"Development label distribution\")\n",
    "print(dev['Cardiomegaly'].value_counts(normalize=True, dropna=False))"
   ]
  },
  {
   "cell_type": "code",
   "execution_count": 3,
   "metadata": {},
   "outputs": [
    {
     "name": "stdout",
     "output_type": "stream",
     "text": [
      "\n",
      "-------------------------------\n",
      "Cardiomegaly Model epoch 1/10\n",
      "Trainning loss: 0.5084 accuracy: 78.50 %\n",
      "Validation loss: 0.4164 accuracy: 86.76 %\n",
      "\n",
      "-------------------------------\n",
      "Cardiomegaly Model epoch 2/10\n",
      "Trainning loss: 0.4831 accuracy: 78.76 %\n",
      "Validation loss: 0.4072 accuracy: 86.34 %\n",
      "\n",
      "-------------------------------\n",
      "Cardiomegaly Model epoch 3/10\n",
      "Trainning loss: 0.4773 accuracy: 78.91 %\n",
      "Validation loss: 0.3807 accuracy: 87.26 %\n",
      "\n",
      "-------------------------------\n",
      "Cardiomegaly Model epoch 4/10\n",
      "Trainning loss: 0.4772 accuracy: 78.69 %\n",
      "Validation loss: 0.3635 accuracy: 87.38 %\n",
      "\n",
      "-------------------------------\n",
      "Cardiomegaly Model epoch 5/10\n",
      "Trainning loss: 0.4718 accuracy: 78.94 %\n",
      "Validation loss: 0.4374 accuracy: 83.52 %\n",
      "\n",
      "-------------------------------\n",
      "Cardiomegaly Model epoch 6/10\n",
      "Trainning loss: 0.4695 accuracy: 79.11 %\n",
      "Validation loss: 0.3729 accuracy: 87.18 %\n",
      "\n",
      "-------------------------------\n",
      "Cardiomegaly Model epoch 7/10\n",
      "Trainning loss: 0.4680 accuracy: 78.96 %\n",
      "Validation loss: 0.3613 accuracy: 87.38 %\n",
      "\n",
      "-------------------------------\n",
      "Cardiomegaly Model epoch 8/10\n",
      "Trainning loss: 0.4680 accuracy: 79.08 %\n",
      "Validation loss: 0.3722 accuracy: 87.06 %\n",
      "\n",
      "-------------------------------\n",
      "Cardiomegaly Model epoch 9/10\n",
      "Trainning loss: 0.4667 accuracy: 79.08 %\n",
      "Validation loss: 0.3609 accuracy: 87.42 %\n",
      "\n",
      "-------------------------------\n",
      "Cardiomegaly Model epoch 10/10\n",
      "Trainning loss: 0.4670 accuracy: 78.90 %\n",
      "Validation loss: 0.3709 accuracy: 87.00 %\n",
      "\n",
      "Best dev Acc: 0.874200\n"
     ]
    }
   ],
   "source": [
    "\"\"\"\n",
    "build and train the model\n",
    "\"\"\"\n",
    "\n",
    "reload(_model)\n",
    "\n",
    "# build the model\n",
    "resnet = _model.TransferModel()\n",
    "\n",
    "# train the model\n",
    "resnet.train()"
   ]
  },
  {
   "cell_type": "code",
   "execution_count": 4,
   "metadata": {},
   "outputs": [
    {
     "name": "stdout",
     "output_type": "stream",
     "text": [
      "(5000, 3)\n",
      "\n",
      "0.0    0.8752\n",
      "1.0    0.1248\n",
      "Name: y_true, dtype: float64\n",
      "\n",
      "0    0.993\n",
      "1    0.007\n",
      "Name: y_pred, dtype: float64\n"
     ]
    }
   ],
   "source": [
    "# get results on dev set\n",
    "results = resnet.evaluate_model(resnet.best_model, \n",
    "                                resnet.dataloader_dev, \n",
    "                                resnet.dev_map)\n",
    "print(results.shape)\n",
    "\n",
    "# get distributions of true labels\n",
    "print()\n",
    "print(results['y_true'].value_counts(normalize=True))\n",
    "\n",
    "# get distributions of pred labels\n",
    "print()\n",
    "print(results['y_pred'].value_counts(normalize=True))"
   ]
  },
  {
   "cell_type": "code",
   "execution_count": 5,
   "metadata": {},
   "outputs": [
    {
     "data": {
      "text/html": [
       "<div>\n",
       "<style scoped>\n",
       "    .dataframe tbody tr th:only-of-type {\n",
       "        vertical-align: middle;\n",
       "    }\n",
       "\n",
       "    .dataframe tbody tr th {\n",
       "        vertical-align: top;\n",
       "    }\n",
       "\n",
       "    .dataframe thead th {\n",
       "        text-align: right;\n",
       "    }\n",
       "</style>\n",
       "<table border=\"1\" class=\"dataframe\">\n",
       "  <thead>\n",
       "    <tr style=\"text-align: right;\">\n",
       "      <th></th>\n",
       "      <th>y_prob</th>\n",
       "      <th>y_pred</th>\n",
       "      <th>y_true</th>\n",
       "    </tr>\n",
       "  </thead>\n",
       "  <tbody>\n",
       "    <tr>\n",
       "      <th>0</th>\n",
       "      <td>0.077944</td>\n",
       "      <td>0</td>\n",
       "      <td>0.0</td>\n",
       "    </tr>\n",
       "    <tr>\n",
       "      <th>1</th>\n",
       "      <td>0.106489</td>\n",
       "      <td>0</td>\n",
       "      <td>0.0</td>\n",
       "    </tr>\n",
       "    <tr>\n",
       "      <th>2</th>\n",
       "      <td>0.035997</td>\n",
       "      <td>0</td>\n",
       "      <td>0.0</td>\n",
       "    </tr>\n",
       "    <tr>\n",
       "      <th>3</th>\n",
       "      <td>0.029017</td>\n",
       "      <td>0</td>\n",
       "      <td>0.0</td>\n",
       "    </tr>\n",
       "    <tr>\n",
       "      <th>4</th>\n",
       "      <td>0.088927</td>\n",
       "      <td>0</td>\n",
       "      <td>0.0</td>\n",
       "    </tr>\n",
       "  </tbody>\n",
       "</table>\n",
       "</div>"
      ],
      "text/plain": [
       "     y_prob y_pred y_true\n",
       "0  0.077944      0    0.0\n",
       "1  0.106489      0    0.0\n",
       "2  0.035997      0    0.0\n",
       "3  0.029017      0    0.0\n",
       "4  0.088927      0    0.0"
      ]
     },
     "execution_count": 5,
     "metadata": {},
     "output_type": "execute_result"
    }
   ],
   "source": [
    "results.head()"
   ]
  },
  {
   "cell_type": "code",
   "execution_count": 13,
   "metadata": {},
   "outputs": [
    {
     "data": {
      "text/plain": [
       "<matplotlib.axes._subplots.AxesSubplot at 0x2b4b6395ce80>"
      ]
     },
     "execution_count": 13,
     "metadata": {},
     "output_type": "execute_result"
    },
    {
     "data": {
      "image/png": "[encoded data removed]",
      "text/plain": [
       "<Figure size 432x288 with 1 Axes>"
      ]
     },
     "metadata": {
      "needs_background": "light"
     },
     "output_type": "display_data"
    }
   ],
   "source": [
    "results['y_prob'].hist(edgecolor='black', bins=30)"
   ]
  },
  {
   "cell_type": "code",
   "execution_count": 7,
   "metadata": {},
   "outputs": [
    {
     "data": {
      "text/plain": [
       "Text(0, 0.5, 'Cross Entropy Loss')"
      ]
     },
     "execution_count": 7,
     "metadata": {},
     "output_type": "execute_result"
    },
    {
     "data": {
      "image/png": "[encoded data removed]",
      "text/plain": [
       "<Figure size 432x288 with 1 Axes>"
      ]
     },
     "metadata": {
      "needs_background": "light"
     },
     "output_type": "display_data"
    }
   ],
   "source": [
    "_time = list(range(len(resnet.train_loss_history)))\n",
    "\n",
    "plt.plot(_time, resnet.train_loss_history, c='red', label=\"Trainning\")\n",
    "plt.plot(_time, resnet.dev_loss_history, c='green', label=\"Testing\")\n",
    "plt.title(\"Loss\")\n",
    "plt.xlabel(\"Epoch\")\n",
    "plt.ylabel(\"Cross Entropy Loss\")"
   ]
  },
  {
   "cell_type": "code",
   "execution_count": 8,
   "metadata": {},
   "outputs": [
    {
     "data": {
      "text/html": [
       "<div>\n",
       "<style scoped>\n",
       "    .dataframe tbody tr th:only-of-type {\n",
       "        vertical-align: middle;\n",
       "    }\n",
       "\n",
       "    .dataframe tbody tr th {\n",
       "        vertical-align: top;\n",
       "    }\n",
       "\n",
       "    .dataframe thead th {\n",
       "        text-align: right;\n",
       "    }\n",
       "</style>\n",
       "<table border=\"1\" class=\"dataframe\">\n",
       "  <thead>\n",
       "    <tr style=\"text-align: right;\">\n",
       "      <th></th>\n",
       "      <th>0</th>\n",
       "    </tr>\n",
       "  </thead>\n",
       "  <tbody>\n",
       "    <tr>\n",
       "      <th>optimal_threshold</th>\n",
       "      <td>0.135064</td>\n",
       "    </tr>\n",
       "    <tr>\n",
       "      <th>true negatives</th>\n",
       "      <td>2495.000000</td>\n",
       "    </tr>\n",
       "    <tr>\n",
       "      <th>true positives</th>\n",
       "      <td>420.000000</td>\n",
       "    </tr>\n",
       "    <tr>\n",
       "      <th>false positives</th>\n",
       "      <td>1881.000000</td>\n",
       "    </tr>\n",
       "    <tr>\n",
       "      <th>false negatives</th>\n",
       "      <td>204.000000</td>\n",
       "    </tr>\n",
       "    <tr>\n",
       "      <th>sensitivity</th>\n",
       "      <td>0.673077</td>\n",
       "    </tr>\n",
       "    <tr>\n",
       "      <th>specificity</th>\n",
       "      <td>0.570155</td>\n",
       "    </tr>\n",
       "    <tr>\n",
       "      <th>F1-score</th>\n",
       "      <td>0.287179</td>\n",
       "    </tr>\n",
       "    <tr>\n",
       "      <th>precision</th>\n",
       "      <td>0.226952</td>\n",
       "    </tr>\n",
       "    <tr>\n",
       "      <th>recall</th>\n",
       "      <td>0.226952</td>\n",
       "    </tr>\n",
       "    <tr>\n",
       "      <th>AUCROC</th>\n",
       "      <td>0.665180</td>\n",
       "    </tr>\n",
       "  </tbody>\n",
       "</table>\n",
       "</div>"
      ],
      "text/plain": [
       "                             0\n",
       "optimal_threshold     0.135064\n",
       "true negatives     2495.000000\n",
       "true positives      420.000000\n",
       "false positives    1881.000000\n",
       "false negatives     204.000000\n",
       "sensitivity           0.673077\n",
       "specificity           0.570155\n",
       "F1-score              0.287179\n",
       "precision             0.226952\n",
       "recall                0.226952\n",
       "AUCROC                0.665180"
      ]
     },
     "execution_count": 8,
     "metadata": {},
     "output_type": "execute_result"
    }
   ],
   "source": [
    "reload(_tools)\n",
    "\n",
    "res = _tools.get_classification_metrics(results)\n",
    "res"
   ]
  },
  {
   "cell_type": "code",
   "execution_count": 12,
   "metadata": {},
   "outputs": [
    {
     "name": "stdout",
     "output_type": "stream",
     "text": [
      "(234, 3)\n",
      "\n",
      "0.0    0.709402\n",
      "1.0    0.290598\n",
      "Name: y_true, dtype: float64\n",
      "\n",
      "0    1.0\n",
      "Name: y_pred, dtype: float64\n",
      "\n"
     ]
    },
    {
     "data": {
      "text/html": [
       "<div>\n",
       "<style scoped>\n",
       "    .dataframe tbody tr th:only-of-type {\n",
       "        vertical-align: middle;\n",
       "    }\n",
       "\n",
       "    .dataframe tbody tr th {\n",
       "        vertical-align: top;\n",
       "    }\n",
       "\n",
       "    .dataframe thead th {\n",
       "        text-align: right;\n",
       "    }\n",
       "</style>\n",
       "<table border=\"1\" class=\"dataframe\">\n",
       "  <thead>\n",
       "    <tr style=\"text-align: right;\">\n",
       "      <th></th>\n",
       "      <th>0</th>\n",
       "    </tr>\n",
       "  </thead>\n",
       "  <tbody>\n",
       "    <tr>\n",
       "      <th>optimal_threshold</th>\n",
       "      <td>0.109163</td>\n",
       "    </tr>\n",
       "    <tr>\n",
       "      <th>true negatives</th>\n",
       "      <td>99.000000</td>\n",
       "    </tr>\n",
       "    <tr>\n",
       "      <th>true positives</th>\n",
       "      <td>51.000000</td>\n",
       "    </tr>\n",
       "    <tr>\n",
       "      <th>false positives</th>\n",
       "      <td>67.000000</td>\n",
       "    </tr>\n",
       "    <tr>\n",
       "      <th>false negatives</th>\n",
       "      <td>17.000000</td>\n",
       "    </tr>\n",
       "    <tr>\n",
       "      <th>sensitivity</th>\n",
       "      <td>0.750000</td>\n",
       "    </tr>\n",
       "    <tr>\n",
       "      <th>specificity</th>\n",
       "      <td>0.596386</td>\n",
       "    </tr>\n",
       "    <tr>\n",
       "      <th>F1-score</th>\n",
       "      <td>0.548387</td>\n",
       "    </tr>\n",
       "    <tr>\n",
       "      <th>precision</th>\n",
       "      <td>0.551351</td>\n",
       "    </tr>\n",
       "    <tr>\n",
       "      <th>recall</th>\n",
       "      <td>0.551351</td>\n",
       "    </tr>\n",
       "    <tr>\n",
       "      <th>AUCROC</th>\n",
       "      <td>0.731396</td>\n",
       "    </tr>\n",
       "  </tbody>\n",
       "</table>\n",
       "</div>"
      ],
      "text/plain": [
       "                           0\n",
       "optimal_threshold   0.109163\n",
       "true negatives     99.000000\n",
       "true positives     51.000000\n",
       "false positives    67.000000\n",
       "false negatives    17.000000\n",
       "sensitivity         0.750000\n",
       "specificity         0.596386\n",
       "F1-score            0.548387\n",
       "precision           0.551351\n",
       "recall              0.551351\n",
       "AUCROC              0.731396"
      ]
     },
     "execution_count": 12,
     "metadata": {},
     "output_type": "execute_result"
    }
   ],
   "source": [
    "# # get results on valid set\n",
    "# results = resnet.evaluate_model(resnet.best_model, \n",
    "#                                 resnet.dataloader_valid, \n",
    "#                                 resnet.valid__map)\n",
    "# print(results.shape)\n",
    "\n",
    "# # get distributions of true labels\n",
    "# print()\n",
    "# print(results['y_true'].value_counts(normalize=True))\n",
    "\n",
    "# # get distributions of pred labels\n",
    "# print()\n",
    "# print(results['y_pred'].value_counts(normalize=True))\n",
    "\n",
    "# print()\n",
    "# res = _tools.get_classification_metrics(results)\n",
    "# res"
   ]
  },
  {
   "cell_type": "code",
   "execution_count": null,
   "metadata": {},
   "outputs": [],
   "source": []
  },
  {
   "cell_type": "code",
   "execution_count": null,
   "metadata": {},
   "outputs": [],
   "source": []
  },
  {
   "cell_type": "code",
   "execution_count": null,
   "metadata": {},
   "outputs": [],
   "source": []
  },
  {
   "cell_type": "code",
   "execution_count": null,
   "metadata": {},
   "outputs": [],
   "source": []
  }
 ],
 "metadata": {
  "kernelspec": {
   "display_name": "Python 3",
   "language": "python",
   "name": "python3"
  },
  "language_info": {
   "codemirror_mode": {
    "name": "ipython",
    "version": 3
   },
   "file_extension": ".py",
   "mimetype": "text/x-python",
   "name": "python",
   "nbconvert_exporter": "python",
   "pygments_lexer": "ipython3",
   "version": "3.8.3"
  }
 },
 "nbformat": 4,
 "nbformat_minor": 4
}

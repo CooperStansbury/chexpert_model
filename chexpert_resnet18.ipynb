{
 "cells": [
  {
   "cell_type": "code",
   "execution_count": 1,
   "metadata": {},
   "outputs": [],
   "source": [
    "import pandas as pd\n",
    "import numpy as np\n",
    "import os\n",
    "from importlib import reload\n",
    "\n",
    "import matplotlib.pyplot as plt\n",
    "import matplotlib\n",
    "import seaborn as sns\n",
    "\n",
    "from sklearn.model_selection import train_test_split\n",
    "import skimage\n",
    "from skimage import io\n",
    "from skimage.transform import resize\n",
    "\n",
    "import torch\n",
    "import torch.nn as nn\n",
    "import torch.optim as optim\n",
    "from torch.optim import lr_scheduler\n",
    "import numpy as np\n",
    "import torchvision\n",
    "from torchvision import datasets, models, transforms\n",
    "import time\n",
    "import os\n",
    "import copy\n",
    "\n",
    "# local imports\n",
    "import model as _model\n",
    "import utils as _tools"
   ]
  },
  {
   "cell_type": "code",
   "execution_count": 2,
   "metadata": {},
   "outputs": [
    {
     "name": "stdout",
     "output_type": "stream",
     "text": [
      "sampling 20000 records\n",
      "train.shape: (15000, 19)\n",
      "dev.shape: (5000, 19)\n",
      "valid.shape: (234, 19)\n",
      "saved: ./train.csv\n",
      "saved: ./dev.csv\n",
      "saved: ./valid.csv\n",
      "\n",
      "Trainning label distribution\n",
      " NaN    0.790267\n",
      " 1.0    0.123733\n",
      " 0.0    0.049333\n",
      "-1.0    0.036667\n",
      "Name: Cardiomegaly, dtype: float64\n",
      "\n",
      "Development label distribution\n",
      " NaN    0.7884\n",
      " 1.0    0.1248\n",
      " 0.0    0.0492\n",
      "-1.0    0.0376\n",
      "Name: Cardiomegaly, dtype: float64\n"
     ]
    }
   ],
   "source": [
    "\"\"\"\n",
    "control the generation of trainning and dev datasets\n",
    "\"\"\"\n",
    "\n",
    "train, dev, _ = _tools.make_trainning_data(sample=20000, \n",
    "                                           return_frames=True, \n",
    "                                           state=1729)\n",
    "\n",
    "print()\n",
    "print(\"Trainning label distribution\")\n",
    "print(train['Cardiomegaly'].value_counts(normalize=True, dropna=False))\n",
    "\n",
    "print()\n",
    "print(\"Development label distribution\")\n",
    "print(dev['Cardiomegaly'].value_counts(normalize=True, dropna=False))"
   ]
  },
  {
   "cell_type": "code",
   "execution_count": null,
   "metadata": {},
   "outputs": [
    {
     "name": "stdout",
     "output_type": "stream",
     "text": [
      "\n",
      "-------------------------------\n",
      "Cardiomegaly Model epoch 1/10\n",
      "Trainning loss: 0.5109 accuracy: 78.55 %\n",
      "Validation loss: 0.3703 accuracy: 87.52 %\n",
      "\n",
      "-------------------------------\n",
      "Cardiomegaly Model epoch 2/10\n",
      "Trainning loss: 0.4851 accuracy: 79.00 %\n",
      "Validation loss: 0.3708 accuracy: 87.54 %\n",
      "\n",
      "-------------------------------\n",
      "Cardiomegaly Model epoch 3/10\n",
      "Trainning loss: 0.4443 accuracy: 79.65 %\n",
      "Validation loss: 0.3772 accuracy: 85.90 %\n",
      "\n",
      "-------------------------------\n",
      "Cardiomegaly Model epoch 4/10\n",
      "Trainning loss: 0.3894 accuracy: 82.04 %\n",
      "Validation loss: 0.3587 accuracy: 86.46 %\n",
      "\n",
      "-------------------------------\n",
      "Cardiomegaly Model epoch 5/10\n",
      "Trainning loss: 0.3254 accuracy: 85.63 %\n",
      "Validation loss: 0.3798 accuracy: 87.10 %\n",
      "\n",
      "-------------------------------\n",
      "Cardiomegaly Model epoch 6/10\n"
     ]
    }
   ],
   "source": [
    "\"\"\"\n",
    "build and train the model\n",
    "\"\"\"\n",
    "\n",
    "reload(_model)\n",
    "\n",
    "# build the model\n",
    "resnet = _model.TransferModel()\n",
    "\n",
    "# train the model\n",
    "resnet.train()"
   ]
  },
  {
   "cell_type": "code",
   "execution_count": null,
   "metadata": {},
   "outputs": [],
   "source": [
    "# get results on dev set\n",
    "results = resnet.evaluate_model(resnet.best_model, \n",
    "                                resnet.dataloader_dev, \n",
    "                                resnet.dev_map)\n",
    "print(results.shape)\n",
    "\n",
    "# get distributions of true labels\n",
    "print()\n",
    "print(results['y_true'].value_counts(normalize=True))\n",
    "\n",
    "# get distributions of pred labels\n",
    "print()\n",
    "print(results['y_pred'].value_counts(normalize=True))"
   ]
  },
  {
   "cell_type": "code",
   "execution_count": null,
   "metadata": {},
   "outputs": [],
   "source": [
    "results.head()"
   ]
  },
  {
   "cell_type": "code",
   "execution_count": null,
   "metadata": {},
   "outputs": [],
   "source": [
    "results['y_prob'].hist(edgecolor='black', bins=30)"
   ]
  },
  {
   "cell_type": "code",
   "execution_count": null,
   "metadata": {},
   "outputs": [],
   "source": [
    "_time = list(range(len(resnet.train_loss_history)))\n",
    "\n",
    "plt.plot(_time, resnet.train_loss_history, c='red', label=\"Trainning\")\n",
    "plt.plot(_time, resnet.dev_loss_history, c='green', label=\"Testing\")\n",
    "plt.title(\"Loss\")\n",
    "plt.xlabel(\"Epoch\")\n",
    "plt.ylabel(\"Cross Entropy Loss\")"
   ]
  },
  {
   "cell_type": "code",
   "execution_count": null,
   "metadata": {},
   "outputs": [],
   "source": [
    "reload(_tools)\n",
    "\n",
    "res = _tools.get_classification_metrics(results)\n",
    "res"
   ]
  },
  {
   "cell_type": "code",
   "execution_count": null,
   "metadata": {},
   "outputs": [],
   "source": [
    "# # get results on valid set\n",
    "# results = resnet.evaluate_model(resnet.best_model, \n",
    "#                                 resnet.dataloader_valid, \n",
    "#                                 resnet.valid__map)\n",
    "# print(results.shape)\n",
    "\n",
    "# # get distributions of true labels\n",
    "# print()\n",
    "# print(results['y_true'].value_counts(normalize=True))\n",
    "\n",
    "# # get distributions of pred labels\n",
    "# print()\n",
    "# print(results['y_pred'].value_counts(normalize=True))\n",
    "\n",
    "# print()\n",
    "# res = _tools.get_classification_metrics(results)\n",
    "# res"
   ]
  },
  {
   "cell_type": "code",
   "execution_count": null,
   "metadata": {},
   "outputs": [],
   "source": []
  },
  {
   "cell_type": "code",
   "execution_count": null,
   "metadata": {},
   "outputs": [],
   "source": []
  },
  {
   "cell_type": "code",
   "execution_count": null,
   "metadata": {},
   "outputs": [],
   "source": []
  },
  {
   "cell_type": "code",
   "execution_count": null,
   "metadata": {},
   "outputs": [],
   "source": []
  }
 ],
 "metadata": {
  "kernelspec": {
   "display_name": "Python 3",
   "language": "python",
   "name": "python3"
  },
  "language_info": {
   "codemirror_mode": {
    "name": "ipython",
    "version": 3
   },
   "file_extension": ".py",
   "mimetype": "text/x-python",
   "name": "python",
   "nbconvert_exporter": "python",
   "pygments_lexer": "ipython3",
   "version": "3.8.3"
  }
 },
 "nbformat": 4,
 "nbformat_minor": 4
}

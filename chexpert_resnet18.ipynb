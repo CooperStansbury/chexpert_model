{
 "cells": [
  {
   "cell_type": "code",
   "execution_count": 1,
   "metadata": {},
   "outputs": [],
   "source": [
    "import pandas as pd\n",
    "import numpy as np\n",
    "import os\n",
    "from importlib import reload\n",
    "\n",
    "import matplotlib.pyplot as plt\n",
    "import matplotlib\n",
    "import seaborn as sns\n",
    "\n",
    "from sklearn.model_selection import train_test_split\n",
    "import skimage\n",
    "from skimage import io\n",
    "from skimage.transform import resize\n",
    "\n",
    "import torch\n",
    "import torch.nn as nn\n",
    "import torch.optim as optim\n",
    "from torch.optim import lr_scheduler\n",
    "import numpy as np\n",
    "import torchvision\n",
    "from torchvision import datasets, models, transforms\n",
    "import time\n",
    "import os\n",
    "import copy\n",
    "\n",
    "# local imports\n",
    "import model as _model\n",
    "import utils as _tools"
   ]
  },
  {
   "cell_type": "code",
   "execution_count": 2,
   "metadata": {},
   "outputs": [
    {
     "name": "stdout",
     "output_type": "stream",
     "text": [
      "sampling 50000 records\n",
      "train.shape: (37500, 19)\n",
      "dev.shape: (12500, 19)\n",
      "valid.shape: (234, 19)\n",
      "saved: ./train.csv\n",
      "saved: ./dev.csv\n",
      "saved: ./valid.csv\n",
      "\n",
      "Trainning label distribution\n",
      " NaN    0.792187\n",
      " 1.0    0.121787\n",
      " 0.0    0.049280\n",
      "-1.0    0.036747\n",
      "Name: Cardiomegaly, dtype: float64\n",
      "\n",
      "Development label distribution\n",
      " NaN    0.79312\n",
      " 1.0    0.12280\n",
      " 0.0    0.04952\n",
      "-1.0    0.03456\n",
      "Name: Cardiomegaly, dtype: float64\n"
     ]
    }
   ],
   "source": [
    "\"\"\"\n",
    "control the generation of trainning and dev datasets\n",
    "\"\"\"\n",
    "\n",
    "train, dev, _ = _tools.make_trainning_data(sample=50000, \n",
    "                                           return_frames=True, \n",
    "                                           state=1729)\n",
    "\n",
    "print()\n",
    "print(\"Trainning label distribution\")\n",
    "print(train['Cardiomegaly'].value_counts(normalize=True, dropna=False))\n",
    "\n",
    "print()\n",
    "print(\"Development label distribution\")\n",
    "print(dev['Cardiomegaly'].value_counts(normalize=True, dropna=False))"
   ]
  },
  {
   "cell_type": "code",
   "execution_count": null,
   "metadata": {},
   "outputs": [
    {
     "name": "stdout",
     "output_type": "stream",
     "text": [
      "\n",
      "-------------------------------\n",
      "Cardiomegaly Model epoch 1/20\n"
     ]
    },
    {
     "name": "stderr",
     "output_type": "stream",
     "text": [
      "/sw/arcts/centos7/python3.8-anaconda/2020.07/lib/python3.8/site-packages/sklearn/metrics/_classification.py:1221: UndefinedMetricWarning: Recall is ill-defined and being set to 0.0 due to no true samples. Use `zero_division` parameter to control this behavior.\n",
      "  _warn_prf(average, modifier, msg_start, len(result))\n"
     ]
    },
    {
     "name": "stdout",
     "output_type": "stream",
     "text": [
      "Trainning loss: 0.6191 accuracy: 82.78 %\n",
      "Validation loss: 0.5925 accuracy: 84.79 %\n",
      "\n",
      "-------------------------------\n",
      "Cardiomegaly Model epoch 2/20\n",
      "Trainning loss: 0.5727 accuracy: 83.39 %\n",
      "Validation loss: 0.5686 accuracy: 85.43 %\n",
      "\n",
      "-------------------------------\n",
      "Cardiomegaly Model epoch 3/20\n",
      "Trainning loss: 0.5421 accuracy: 83.24 %\n",
      "Validation loss: 0.5456 accuracy: 81.68 %\n",
      "\n",
      "-------------------------------\n",
      "Cardiomegaly Model epoch 4/20\n",
      "Trainning loss: 0.5223 accuracy: 83.50 %\n",
      "Validation loss: 0.5323 accuracy: 82.06 %\n",
      "\n",
      "-------------------------------\n",
      "Cardiomegaly Model epoch 5/20\n",
      "Trainning loss: 0.5019 accuracy: 83.61 %\n",
      "Validation loss: 0.5260 accuracy: 83.24 %\n",
      "\n",
      "-------------------------------\n",
      "Cardiomegaly Model epoch 6/20\n",
      "Trainning loss: 0.4867 accuracy: 83.92 %\n",
      "Validation loss: 0.5187 accuracy: 82.23 %\n",
      "\n",
      "-------------------------------\n",
      "Cardiomegaly Model epoch 7/20\n",
      "Trainning loss: 0.4731 accuracy: 84.61 %\n",
      "Validation loss: 0.5158 accuracy: 82.43 %\n",
      "\n",
      "-------------------------------\n",
      "Cardiomegaly Model epoch 8/20\n",
      "Trainning loss: 0.4589 accuracy: 84.91 %\n",
      "Validation loss: 0.5140 accuracy: 83.67 %\n",
      "\n",
      "-------------------------------\n",
      "Cardiomegaly Model epoch 9/20\n",
      "Trainning loss: 0.4429 accuracy: 85.58 %\n",
      "Validation loss: 0.5136 accuracy: 82.93 %\n",
      "\n",
      "-------------------------------\n",
      "Cardiomegaly Model epoch 10/20\n",
      "Trainning loss: 0.4297 accuracy: 85.90 %\n",
      "Validation loss: 0.5178 accuracy: 83.74 %\n",
      "\n",
      "-------------------------------\n",
      "Cardiomegaly Model epoch 11/20\n",
      "Trainning loss: 0.4141 accuracy: 86.46 %\n",
      "Validation loss: 0.5183 accuracy: 83.86 %\n",
      "\n",
      "-------------------------------\n",
      "Cardiomegaly Model epoch 12/20\n",
      "Trainning loss: 0.3991 accuracy: 86.94 %\n",
      "Validation loss: 0.5203 accuracy: 83.54 %\n",
      "\n",
      "-------------------------------\n",
      "Cardiomegaly Model epoch 13/20\n",
      "Trainning loss: 0.3811 accuracy: 87.56 %\n",
      "Validation loss: 0.5327 accuracy: 84.43 %\n",
      "\n",
      "-------------------------------\n",
      "Cardiomegaly Model epoch 14/20\n",
      "Trainning loss: 0.3647 accuracy: 88.19 %\n",
      "Validation loss: 0.5281 accuracy: 82.74 %\n",
      "\n",
      "-------------------------------\n",
      "Cardiomegaly Model epoch 15/20\n",
      "Trainning loss: 0.3473 accuracy: 88.62 %\n",
      "Validation loss: 0.5372 accuracy: 83.42 %\n",
      "\n",
      "-------------------------------\n",
      "Cardiomegaly Model epoch 16/20\n",
      "Trainning loss: 0.3291 accuracy: 89.34 %\n",
      "Validation loss: 0.5580 accuracy: 84.58 %\n",
      "\n",
      "-------------------------------\n",
      "Cardiomegaly Model epoch 17/20\n",
      "Trainning loss: 0.3094 accuracy: 90.06 %\n",
      "Validation loss: 0.5553 accuracy: 82.10 %\n",
      "\n",
      "-------------------------------\n",
      "Cardiomegaly Model epoch 18/20\n",
      "Trainning loss: 0.2882 accuracy: 90.85 %\n",
      "Validation loss: 0.5715 accuracy: 82.75 %\n",
      "\n",
      "-------------------------------\n",
      "Cardiomegaly Model epoch 19/20\n",
      "Trainning loss: 0.2665 accuracy: 91.75 %\n",
      "Validation loss: 0.6015 accuracy: 83.85 %\n",
      "\n",
      "-------------------------------\n",
      "Cardiomegaly Model epoch 20/20\n",
      "Trainning loss: 0.2452 accuracy: 92.36 %\n"
     ]
    }
   ],
   "source": [
    "\"\"\"\n",
    "build and train the model\n",
    "\"\"\"\n",
    "\n",
    "reload(_model)\n",
    "\n",
    "# build the models\n",
    "resnet = _model.TransferModel(use_cpu=False)\n",
    "\n",
    "# train + evaluate the model\n",
    "resnet.train()"
   ]
  },
  {
   "cell_type": "code",
   "execution_count": null,
   "metadata": {},
   "outputs": [],
   "source": [
    "# get results on dev set\n",
    "results = resnet.evaluate_model(resnet.best_model, \n",
    "                                resnet.dataloader_dev, \n",
    "                                resnet.dev_map)\n",
    "print(results.shape)\n",
    "\n",
    "# get distributions of true labels\n",
    "print()\n",
    "print(results['y_true'].value_counts(normalize=True))\n",
    "\n",
    "# get distributions of pred labels\n",
    "print()\n",
    "print(results['y_pred'].value_counts(normalize=True))\n",
    "\n",
    "outpath = f\"results/dev_results.csv\"\n",
    "results.to_csv(outpath, index=False)"
   ]
  },
  {
   "cell_type": "code",
   "execution_count": null,
   "metadata": {},
   "outputs": [],
   "source": [
    "results.head()"
   ]
  },
  {
   "cell_type": "code",
   "execution_count": null,
   "metadata": {},
   "outputs": [],
   "source": [
    "matplotlib.rcParams['figure.dpi'] = 150\n",
    "results['y_prob'].hist(edgecolor='black', bins=30)\n",
    "plt.title('Distribution of Propensities')"
   ]
  },
  {
   "cell_type": "code",
   "execution_count": null,
   "metadata": {},
   "outputs": [],
   "source": [
    "_time = list(range(len(resnet.train_loss_history)))\n",
    "\n",
    "matplotlib.rcParams['figure.dpi'] = 150\n",
    "plt.plot(_time, resnet.train_loss_history, c='black', label=\"Trainning\")\n",
    "plt.plot(_time, resnet.dev_loss_history, c='black', ls=\":\", label=\"Testing\")\n",
    "plt.title(\"Training Loss\")\n",
    "plt.xlabel(\"Epoch\")\n",
    "plt.ylabel(\"Cross Entropy Loss\")\n",
    "plt.legend()\n",
    "outpath = f\"results/training_loss.png\"\n",
    "plt.savefig(outpath, bbox_inches='tight')"
   ]
  },
  {
   "cell_type": "code",
   "execution_count": null,
   "metadata": {},
   "outputs": [],
   "source": [
    "_time = list(range(len(resnet.train_acc_history)))\n",
    "\n",
    "matplotlib.rcParams['figure.dpi'] = 150\n",
    "plt.plot(_time, resnet.train_acc_history,  c='black', label=\"Trainning\")\n",
    "plt.plot(_time, resnet.dev_acc_history, c='black', ls=\":\", label=\"Testing\")\n",
    "plt.title(\"Trainning Accuracy\")\n",
    "plt.xlabel(\"Epoch\")\n",
    "plt.ylabel(\"Accuracy\")\n",
    "plt.legend()\n",
    "outpath = f\"results/training_accuracy.png\"\n",
    "plt.savefig(outpath, bbox_inches='tight')"
   ]
  },
  {
   "cell_type": "code",
   "execution_count": null,
   "metadata": {},
   "outputs": [],
   "source": [
    "reload(_tools)\n",
    "\n",
    "res = _tools.get_classification_metrics(results)\n",
    "res"
   ]
  },
  {
   "cell_type": "code",
   "execution_count": null,
   "metadata": {},
   "outputs": [],
   "source": [
    "\"\"\"\n",
    "save the model\n",
    "\"\"\"\n",
    "\n",
    "outpath = f\"models/{resnet.condition}_resnet18.pth\"\n",
    "torch.save(resnet.model.state_dict(), outpath)\n",
    "print(f\"saved: {outpath}\")"
   ]
  },
  {
   "cell_type": "code",
   "execution_count": null,
   "metadata": {},
   "outputs": [],
   "source": [
    "# get results on valid set\n",
    "results = resnet.evaluate_model(resnet.best_model, \n",
    "                                resnet.dataloader_valid, \n",
    "                                resnet.valid_map)\n",
    "print(results.shape)\n",
    "\n",
    "# get distributions of true labels\n",
    "print()\n",
    "print(results['y_true'].value_counts(normalize=True))\n",
    "\n",
    "# get distributions of pred labels\n",
    "print()\n",
    "print(results['y_pred'].value_counts(normalize=True))\n",
    "\n",
    "outpath = f\"results/validation_results.csv\"\n",
    "results.to_csv(outpath, index=False)\n",
    "\n",
    "print()\n",
    "res = _tools.get_classification_metrics(results)\n",
    "res"
   ]
  },
  {
   "cell_type": "code",
   "execution_count": null,
   "metadata": {},
   "outputs": [],
   "source": [
    "!git add ."
   ]
  },
  {
   "cell_type": "code",
   "execution_count": null,
   "metadata": {},
   "outputs": [],
   "source": [
    "!git commit -m \"model updates\""
   ]
  },
  {
   "cell_type": "code",
   "execution_count": null,
   "metadata": {},
   "outputs": [],
   "source": []
  },
  {
   "cell_type": "code",
   "execution_count": null,
   "metadata": {},
   "outputs": [],
   "source": []
  }
 ],
 "metadata": {
  "kernelspec": {
   "display_name": "Python 3",
   "language": "python",
   "name": "python3"
  },
  "language_info": {
   "codemirror_mode": {
    "name": "ipython",
    "version": 3
   },
   "file_extension": ".py",
   "mimetype": "text/x-python",
   "name": "python",
   "nbconvert_exporter": "python",
   "pygments_lexer": "ipython3",
   "version": "3.8.3"
  }
 },
 "nbformat": 4,
 "nbformat_minor": 4
}

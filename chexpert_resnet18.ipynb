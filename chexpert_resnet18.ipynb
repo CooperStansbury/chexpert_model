{
 "cells": [
  {
   "cell_type": "code",
   "execution_count": 1,
   "metadata": {},
   "outputs": [],
   "source": [
    "import pandas as pd\n",
    "import numpy as np\n",
    "import os\n",
    "from importlib import reload\n",
    "\n",
    "import matplotlib.pyplot as plt\n",
    "import matplotlib\n",
    "import seaborn as sns\n",
    "\n",
    "from sklearn.model_selection import train_test_split\n",
    "import skimage\n",
    "from skimage import io\n",
    "from skimage.transform import resize\n",
    "\n",
    "import torch\n",
    "import torch.nn as nn\n",
    "import torch.optim as optim\n",
    "from torch.optim import lr_scheduler\n",
    "import numpy as np\n",
    "import torchvision\n",
    "from torchvision import datasets, models, transforms\n",
    "import time\n",
    "import os\n",
    "import copy\n",
    "\n",
    "# local imports\n",
    "import model as _model\n",
    "import utils as _tools"
   ]
  },
  {
   "cell_type": "code",
   "execution_count": 2,
   "metadata": {},
   "outputs": [
    {
     "name": "stdout",
     "output_type": "stream",
     "text": [
      "sampling 10000 records\n",
      "train.shape: (7500, 19)\n",
      "dev.shape: (2500, 19)\n",
      "valid.shape: (234, 19)\n",
      "saved: ./train.csv\n",
      "saved: ./dev.csv\n",
      "saved: ./valid.csv\n",
      "\n",
      "Trainning label distribution\n",
      " NaN    0.790000\n",
      " 1.0    0.125067\n",
      " 0.0    0.049600\n",
      "-1.0    0.035333\n",
      "Name: Cardiomegaly, dtype: float64\n",
      "\n",
      "Development label distribution\n",
      " NaN    0.8052\n",
      " 1.0    0.1148\n",
      " 0.0    0.0480\n",
      "-1.0    0.0320\n",
      "Name: Cardiomegaly, dtype: float64\n"
     ]
    }
   ],
   "source": [
    "\"\"\"\n",
    "control the generation of trainning and dev datasets\n",
    "\"\"\"\n",
    "\n",
    "train, dev, _ = _tools.make_trainning_data(sample=10000, \n",
    "                                           return_frames=True, \n",
    "                                           state=1729)\n",
    "\n",
    "print()\n",
    "print(\"Trainning label distribution\")\n",
    "print(train['Cardiomegaly'].value_counts(normalize=True, dropna=False))\n",
    "\n",
    "print()\n",
    "print(\"Development label distribution\")\n",
    "print(dev['Cardiomegaly'].value_counts(normalize=True, dropna=False))"
   ]
  },
  {
   "cell_type": "code",
   "execution_count": null,
   "metadata": {},
   "outputs": [
    {
     "name": "stdout",
     "output_type": "stream",
     "text": [
      "\n",
      "-------------------------------\n",
      "Cardiomegaly Model epoch 1/10\n",
      "Trainning loss: 0.6594 accuracy: 82.91 %\n"
     ]
    },
    {
     "name": "stderr",
     "output_type": "stream",
     "text": [
      "/sw/arcts/centos7/python3.8-anaconda/2020.07/lib/python3.8/site-packages/sklearn/metrics/_classification.py:1221: UndefinedMetricWarning: Recall is ill-defined and being set to 0.0 due to no true samples. Use `zero_division` parameter to control this behavior.\n",
      "  _warn_prf(average, modifier, msg_start, len(result))\n"
     ]
    },
    {
     "name": "stdout",
     "output_type": "stream",
     "text": [
      "Validation loss: 0.6373 accuracy: 85.08 %\n",
      "\n",
      "-------------------------------\n",
      "Cardiomegaly Model epoch 2/10\n",
      "Trainning loss: 0.6288 accuracy: 82.96 %\n",
      "Validation loss: 0.6234 accuracy: 83.92 %\n",
      "\n",
      "-------------------------------\n",
      "Cardiomegaly Model epoch 3/10\n",
      "Trainning loss: 0.6079 accuracy: 83.96 %\n",
      "Validation loss: 0.6170 accuracy: 83.48 %\n",
      "\n",
      "-------------------------------\n",
      "Cardiomegaly Model epoch 4/10\n",
      "Trainning loss: 0.5916 accuracy: 83.80 %\n",
      "Validation loss: 0.6097 accuracy: 84.76 %\n",
      "\n",
      "-------------------------------\n",
      "Cardiomegaly Model epoch 5/10\n",
      "Trainning loss: 0.5779 accuracy: 84.41 %\n",
      "Validation loss: 0.6041 accuracy: 84.20 %\n",
      "\n",
      "-------------------------------\n",
      "Cardiomegaly Model epoch 6/10\n",
      "Trainning loss: 0.5581 accuracy: 85.24 %\n",
      "Validation loss: 0.6003 accuracy: 83.44 %\n",
      "\n",
      "-------------------------------\n",
      "Cardiomegaly Model epoch 7/10\n",
      "Trainning loss: 0.5432 accuracy: 85.28 %\n",
      "Validation loss: 0.5953 accuracy: 85.00 %\n",
      "\n",
      "-------------------------------\n",
      "Cardiomegaly Model epoch 8/10\n",
      "Trainning loss: 0.5300 accuracy: 85.80 %\n",
      "Validation loss: 0.5922 accuracy: 82.84 %\n",
      "\n",
      "-------------------------------\n",
      "Cardiomegaly Model epoch 9/10\n",
      "Trainning loss: 0.5147 accuracy: 85.96 %\n",
      "Validation loss: 0.5899 accuracy: 81.00 %\n",
      "\n",
      "-------------------------------\n",
      "Cardiomegaly Model epoch 10/10\n"
     ]
    }
   ],
   "source": [
    "\"\"\"\n",
    "build and train the model\n",
    "\"\"\"\n",
    "\n",
    "reload(_model)\n",
    "\n",
    "# build the models\n",
    "resnet = _model.TransferModel()\n",
    "\n",
    "# train the model\n",
    "resnet.train()"
   ]
  },
  {
   "cell_type": "code",
   "execution_count": null,
   "metadata": {},
   "outputs": [],
   "source": [
    "# get results on dev set\n",
    "results = resnet.evaluate_model(resnet.best_model, \n",
    "                                resnet.dataloader_dev, \n",
    "                                resnet.dev_map)\n",
    "print(results.shape)\n",
    "\n",
    "# get distributions of true labels\n",
    "print()\n",
    "print(results['y_true'].value_counts(normalize=True))\n",
    "\n",
    "# get distributions of pred labels\n",
    "print()\n",
    "print(results['y_pred'].value_counts(normalize=True))\n",
    "\n",
    "outpath = f\"results/dev_results.csv\"\n",
    "results.to_csv(outpath, index=False)"
   ]
  },
  {
   "cell_type": "code",
   "execution_count": null,
   "metadata": {},
   "outputs": [],
   "source": [
    "results.head()"
   ]
  },
  {
   "cell_type": "code",
   "execution_count": null,
   "metadata": {},
   "outputs": [],
   "source": [
    "matplotlib.rcParams['figure.dpi'] = 150\n",
    "results['y_prob'].hist(edgecolor='black', bins=30)\n",
    "plt.title('Distribution of Propensities')"
   ]
  },
  {
   "cell_type": "code",
   "execution_count": null,
   "metadata": {},
   "outputs": [],
   "source": [
    "_time = list(range(len(resnet.train_loss_history)))\n",
    "\n",
    "matplotlib.rcParams['figure.dpi'] = 150\n",
    "plt.plot(_time, resnet.train_loss_history, c='black', label=\"Trainning\")\n",
    "plt.plot(_time, resnet.dev_loss_history, c='black', ls=\":\", label=\"Testing\")\n",
    "plt.title(\"Trainning Loss\")\n",
    "plt.xlabel(\"Epoch\")\n",
    "plt.ylabel(\"Cross Entropy Loss\")\n",
    "plt.legend()"
   ]
  },
  {
   "cell_type": "code",
   "execution_count": null,
   "metadata": {},
   "outputs": [],
   "source": [
    "_time = list(range(len(resnet.train_acc_history)))\n",
    "\n",
    "matplotlib.rcParams['figure.dpi'] = 150\n",
    "plt.plot(_time, resnet.train_acc_history,  c='black', label=\"Trainning\")\n",
    "plt.plot(_time, resnet.dev_acc_history, c='black', ls=\":\", label=\"Testing\")\n",
    "plt.title(\"Trainning Accuracy\")\n",
    "plt.xlabel(\"Epoch\")\n",
    "plt.ylabel(\"Accuracy\")\n",
    "plt.legend()"
   ]
  },
  {
   "cell_type": "code",
   "execution_count": null,
   "metadata": {},
   "outputs": [],
   "source": [
    "reload(_tools)\n",
    "\n",
    "res = _tools.get_classification_metrics(results)\n",
    "res"
   ]
  },
  {
   "cell_type": "code",
   "execution_count": null,
   "metadata": {},
   "outputs": [],
   "source": [
    "\"\"\"\n",
    "save the model\n",
    "\"\"\"\n",
    "\n",
    "outpath = f\"models/{resnet.condition}_resnet18.pth\"\n",
    "torch.save(resnet.model.state_dict(), outpath)\n",
    "print(f\"saved: {outpath}\")"
   ]
  },
  {
   "cell_type": "code",
   "execution_count": null,
   "metadata": {},
   "outputs": [],
   "source": [
    "# get results on valid set\n",
    "results = resnet.evaluate_model(resnet.best_model, \n",
    "                                resnet.dataloader_valid, \n",
    "                                resnet.valid_map)\n",
    "print(results.shape)\n",
    "\n",
    "# get distributions of true labels\n",
    "print()\n",
    "print(results['y_true'].value_counts(normalize=True))\n",
    "\n",
    "# get distributions of pred labels\n",
    "print()\n",
    "print(results['y_pred'].value_counts(normalize=True))\n",
    "\n",
    "outpath = f\"results/validation_results.csv\"\n",
    "results.to_csv(outpath, index=False)\n",
    "\n",
    "print()\n",
    "res = _tools.get_classification_metrics(results)\n",
    "res"
   ]
  },
  {
   "cell_type": "code",
   "execution_count": null,
   "metadata": {},
   "outputs": [],
   "source": [
    "!git add ."
   ]
  },
  {
   "cell_type": "code",
   "execution_count": null,
   "metadata": {},
   "outputs": [],
   "source": [
    "!git commit -m \"model updates\""
   ]
  },
  {
   "cell_type": "code",
   "execution_count": null,
   "metadata": {},
   "outputs": [],
   "source": []
  },
  {
   "cell_type": "code",
   "execution_count": null,
   "metadata": {},
   "outputs": [],
   "source": []
  }
 ],
 "metadata": {
  "kernelspec": {
   "display_name": "Python 3",
   "language": "python",
   "name": "python3"
  },
  "language_info": {
   "codemirror_mode": {
    "name": "ipython",
    "version": 3
   },
   "file_extension": ".py",
   "mimetype": "text/x-python",
   "name": "python",
   "nbconvert_exporter": "python",
   "pygments_lexer": "ipython3",
   "version": "3.8.3"
  }
 },
 "nbformat": 4,
 "nbformat_minor": 4
}
